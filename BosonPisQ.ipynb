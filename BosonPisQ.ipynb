{
 "cells": [
  {
   "cell_type": "code",
   "execution_count": null,
   "metadata": {},
   "outputs": [],
   "source": [
    "pip install pennylane"
   ]
  },
  {
   "cell_type": "markdown",
   "metadata": {},
   "source": [
    "\n",
    "This Python class `Converter` takes a Qiskit `QuantumCircuit` object as input and provides a method `convert` that returns a Pennylane `QNode` object. The `QNode` is constructed using a quantum function `qfunc` that translates each gate in the input Qiskit circuit into the corresponding Pennylane operation. The `QNode` is set to calculate the expectation value of the PauliZ operator on the zeroth qubit. The device used for the `QNode` is `default.qubit`, as specified.\n",
    "\n",
    "The `convert` method iterates over the data of the Qiskit circuit, which contains the instructions (gates), the qubits they apply to, and the classical bits (which are ignored in this case since we are only interested in gate operations). For each gate, the method checks the gate name and applies the corresponding Pennylane operation to the specified qubits. If a gate is encountered that is not supported by the converter, a `ValueError` is raised.\n",
    "\n",
    "The sample input creates a Qiskit circuit with two qubits, applies a Hadamard gate to the first qubit, and then a CNOT gate with the first qubit as the control and the second qubit as the target. The `Converter` class is then used to convert this circuit into a Pennylane `QNode`. The expected output is a visualization of the resulting `QNode` using Pennylane's drawing capabilities."
   ]
  },
  {
   "cell_type": "code",
   "execution_count": 1,
   "metadata": {},
   "outputs": [],
   "source": [
    "import pennylane as qml\n",
    "from qiskit import QuantumCircuit"
   ]
  },
  {
   "cell_type": "code",
   "execution_count": 10,
   "metadata": {},
   "outputs": [
    {
     "name": "stdout",
     "output_type": "stream",
     "text": [
      "0: ──H─╭●─┤  <Z>\n",
      "1: ────╰X─┤     \n"
     ]
    },
    {
     "name": "stderr",
     "output_type": "stream",
     "text": [
      "/var/folders/z3/5wtht_qx4ylbrx748h07ps780000gn/T/ipykernel_27830/1166029652.py:14: DeprecationWarning: The property ``qiskit.circuit.bit.Bit.index`` is deprecated as of qiskit-terra 0.17. It will be removed no earlier than 3 months after the release date. Instead, use :meth:`~qiskit.circuit.quantumcircuit.QuantumCircuit.find_bit` to find all the containing registers within a circuit and the index of the bit within the circuit.\n",
      "  qml.Hadamard(wires=instruction[1][0].index)\n",
      "/var/folders/z3/5wtht_qx4ylbrx748h07ps780000gn/T/ipykernel_27830/1166029652.py:16: DeprecationWarning: The property ``qiskit.circuit.bit.Bit.index`` is deprecated as of qiskit-terra 0.17. It will be removed no earlier than 3 months after the release date. Instead, use :meth:`~qiskit.circuit.quantumcircuit.QuantumCircuit.find_bit` to find all the containing registers within a circuit and the index of the bit within the circuit.\n",
      "  qml.CNOT(wires=[q.index for q in instruction[1]])\n"
     ]
    }
   ],
   "source": [
    "\n",
    "class Converter:\n",
    "    def __init__(self, qc):\n",
    "        self.qc = qc\n",
    "\n",
    "    def convert(self):\n",
    "        # Create a PennyLane device\n",
    "        dev = qml.device(\"default.qubit\", wires=self.qc.num_qubits)\n",
    "\n",
    "        @qml.qnode(dev)\n",
    "        def circuit():\n",
    "            # Apply Qiskit gates to PennyLane QNode\n",
    "            for instruction in self.qc.data:\n",
    "                if instruction[0].name == 'h':\n",
    "                    qml.Hadamard(wires=instruction[1][0].index)\n",
    "                elif instruction[0].name == 'cx':\n",
    "                    qml.CNOT(wires=[q.index for q in instruction[1]])\n",
    "\n",
    "            # Measure expectation value of PauliZ on the zeroth qubit\n",
    "            return qml.expval(qml.PauliZ(0))\n",
    "\n",
    "        return circuit\n",
    "\n",
    "\n",
    "# Sample Input\n",
    "qc = QuantumCircuit(2)\n",
    "qc.h(0)\n",
    "qc.cx(0, 1)\n",
    "\n",
    "# Expected Script\n",
    "converter = Converter(qc=qc)\n",
    "qnode = converter.convert()\n",
    "\n",
    "# Expected Output\n",
    "qml.drawer.use_style(\"default\")\n",
    "print(qml.draw(qnode)())\n"
   ]
  },
  {
   "cell_type": "markdown",
   "metadata": {},
   "source": [
    "Using a slightly different using a `for` loop to convert a quanutm function to construct `QNode`"
   ]
  },
  {
   "cell_type": "code",
   "execution_count": 13,
   "metadata": {},
   "outputs": [],
   "source": [
    "\n",
    "class Converter:\n",
    "    def __init__(self, qc: QuantumCircuit):\n",
    "        self.qc = qc\n",
    "\n",
    "    def convert(self):\n",
    "        # Create a device with the default.qubit backend\n",
    "        dev = qml.device('default.qubit', wires=self.qc.num_qubits)\n",
    "\n",
    "        # Define the quantum function that constructs the QNode\n",
    "        def qfunc():\n",
    "            # Convert Qiskit gates to Pennylane operations\n",
    "            for instr, qargs, _ in self.qc.data:\n",
    "                qubits = [qubit.index for qubit in qargs]\n",
    "                gate_name = instr.name\n",
    "\n",
    "                # Map the Qiskit gate to the corresponding Pennylane operation\n",
    "                if gate_name == 'h':\n",
    "                    qml.Hadamard(wires=qubits)\n",
    "                elif gate_name == 'cx':\n",
    "                    qml.CNOT(wires=qubits)\n",
    "                elif gate_name == 'rx':\n",
    "                    angle = instr.params[0]\n",
    "                    qml.RX(angle, wires=qubits)\n",
    "                elif gate_name == 'ry':\n",
    "                    angle = instr.params[0]\n",
    "                    qml.RY(angle, wires=qubits)\n",
    "                elif gate_name == 'rz':\n",
    "                    angle = instr.params[0]\n",
    "                    qml.RZ(angle, wires=qubits)\n",
    "                # Add more gates as needed\n",
    "                else:\n",
    "                    raise ValueError(f\"Gate {gate_name} is not supported by the converter\")\n",
    "\n",
    "            # Add the PauliZ expectation value calculation for the zeroth qubit\n",
    "            return qml.expval(qml.PauliZ(0))\n",
    "\n",
    "        # Create and return the QNode\n",
    "        return qml.QNode(qfunc, dev)"
   ]
  },
  {
   "cell_type": "code",
   "execution_count": 14,
   "metadata": {},
   "outputs": [],
   "source": [
    "# Using the Converter class\n",
    "converter = Converter(qc=qc)\n",
    "qnode = converter.convert()"
   ]
  },
  {
   "cell_type": "code",
   "execution_count": 15,
   "metadata": {},
   "outputs": [
    {
     "data": {
      "text/plain": [
       "<qiskit.circuit.instructionset.InstructionSet at 0x14f2c4f40>"
      ]
     },
     "execution_count": 15,
     "metadata": {},
     "output_type": "execute_result"
    }
   ],
   "source": [
    "# Sample Input\n",
    "qc = QuantumCircuit(2)\n",
    "qc.h(0)\n",
    "qc.cx(0, 1)"
   ]
  },
  {
   "cell_type": "code",
   "execution_count": 16,
   "metadata": {},
   "outputs": [
    {
     "name": "stderr",
     "output_type": "stream",
     "text": [
      "/var/folders/z3/5wtht_qx4ylbrx748h07ps780000gn/T/ipykernel_1414/1939873578.py:13: DeprecationWarning: The property ``qiskit.circuit.bit.Bit.index`` is deprecated as of qiskit-terra 0.17. It will be removed no earlier than 3 months after the release date. Instead, use :meth:`~qiskit.circuit.quantumcircuit.QuantumCircuit.find_bit` to find all the containing registers within a circuit and the index of the bit within the circuit.\n",
      "  qubits = [qubit.index for qubit in qargs]\n"
     ]
    },
    {
     "data": {
      "text/plain": [
       "(<Figure size 500x300 with 1 Axes>, <Axes: >)"
      ]
     },
     "execution_count": 16,
     "metadata": {},
     "output_type": "execute_result"
    },
    {
     "data": {
      "image/png": "[encoded data removed]",
      "text/plain": [
       "<Figure size 500x300 with 1 Axes>"
      ]
     },
     "metadata": {},
     "output_type": "display_data"
    }
   ],
   "source": [
    "# Expected Output\n",
    "qml.drawer.use_style(\"default\")\n",
    "qml.draw_mpl(qnode)()\n"
   ]
  },
  {
   "cell_type": "markdown",
   "metadata": {},
   "source": [
    "Citations:\n",
    "\n",
    "[1] https://docs.pennylane.ai/en/stable/development/release_notes.html\n",
    "\n",
    "[2] https://docs.pennylane.ai/en/stable/code/api/pennylane.from_qiskit.html\n",
    "\n",
    "[3] https://www.oreilly.com/library/view/qiskit-pocket-guide/9781098112462/ch01.html\n",
    "\n",
    "[4] https://pypi.org/project/qiskit/"
   ]
  }
 ],
 "metadata": {
  "kernelspec": {
   "display_name": "Python 3",
   "language": "python",
   "name": "python3"
  },
  "language_info": {
   "codemirror_mode": {
    "name": "ipython",
    "version": 3
   },
   "file_extension": ".py",
   "mimetype": "text/x-python",
   "name": "python",
   "nbconvert_exporter": "python",
   "pygments_lexer": "ipython3",
   "version": "3.12.1"
  }
 },
 "nbformat": 4,
 "nbformat_minor": 2
}
