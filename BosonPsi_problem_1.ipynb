{
 "cells": [
  {
   "cell_type": "code",
   "execution_count": 2,
   "metadata": {},
   "outputs": [
    {
     "name": "stdout",
     "output_type": "stream",
     "text": [
      "Collecting pytenet\n",
      "  Obtaining dependency information for pytenet from https://files.pythonhosted.org/packages/2d/95/2b29ceefa42357d2347ca824b0f423b66c585970b06cea15d566d13733b6/pytenet-1.2.0-py3-none-any.whl.metadata\n",
      "  Downloading pytenet-1.2.0-py3-none-any.whl.metadata (5.9 kB)\n",
      "Requirement already satisfied: numpy in /Library/Frameworks/Python.framework/Versions/3.12/lib/python3.12/site-packages (from pytenet) (1.26.3)\n",
      "Requirement already satisfied: scipy in /Library/Frameworks/Python.framework/Versions/3.12/lib/python3.12/site-packages (from pytenet) (1.11.4)\n",
      "Downloading pytenet-1.2.0-py3-none-any.whl (36 kB)\n",
      "Installing collected packages: pytenet\n",
      "Successfully installed pytenet-1.2.0\n",
      "\n",
      "\u001b[1m[\u001b[0m\u001b[34;49mnotice\u001b[0m\u001b[1;39;49m]\u001b[0m\u001b[39;49m A new release of pip is available: \u001b[0m\u001b[31;49m23.2.1\u001b[0m\u001b[39;49m -> \u001b[0m\u001b[32;49m24.0\u001b[0m\n",
      "\u001b[1m[\u001b[0m\u001b[34;49mnotice\u001b[0m\u001b[1;39;49m]\u001b[0m\u001b[39;49m To update, run: \u001b[0m\u001b[32;49mpip3 install --upgrade pip\u001b[0m\n",
      "Note: you may need to restart the kernel to use updated packages.\n"
     ]
    }
   ],
   "source": [
    "pip install pytenet"
   ]
  },
  {
   "cell_type": "code",
   "execution_count": 3,
   "metadata": {},
   "outputs": [],
   "source": [
    "import numpy as np\n",
    "import pytenet as ptn"
   ]
  },
  {
   "cell_type": "code",
   "execution_count": 4,
   "metadata": {},
   "outputs": [],
   "source": [
    "# seed random number generator for reproducibility\n",
    "rng = np.random.default_rng(42)"
   ]
  },
  {
   "cell_type": "code",
   "execution_count": 5,
   "metadata": {},
   "outputs": [],
   "source": [
    "# physical dimension (of each lattice site);\n",
    "# this could be spin 1, 0, -1 for example, or 0, 1, 2 particles per lattice site\n",
    "d = 3\n",
    "\n",
    "# virtual bond dimensions (note the leading and trailing 1)\n",
    "D = [1, 4, 15, 13, 7, 1]\n",
    "\n",
    "# set all physical and virtual bond quantum numbers to zero\n",
    "# (effectively disabling quantum numbers)\n",
    "qd = np.zeros(d, dtype=int)\n",
    "qD = [np.zeros(Di, dtype=int) for Di in D]\n",
    "\n",
    "# now create the matrix product state\n",
    "mps = ptn.MPS(qd, qD, fill='random', rng=rng)"
   ]
  },
  {
   "cell_type": "code",
   "execution_count": 6,
   "metadata": {},
   "outputs": [
    {
     "data": {
      "text/plain": [
       "list"
      ]
     },
     "execution_count": 6,
     "metadata": {},
     "output_type": "execute_result"
    }
   ],
   "source": [
    "type(mps.A)"
   ]
  },
  {
   "cell_type": "code",
   "execution_count": 7,
   "metadata": {},
   "outputs": [
    {
     "data": {
      "text/plain": [
       "numpy.ndarray"
      ]
     },
     "execution_count": 7,
     "metadata": {},
     "output_type": "execute_result"
    }
   ],
   "source": [
    "type(mps.A[0])"
   ]
  },
  {
   "cell_type": "code",
   "execution_count": 8,
   "metadata": {},
   "outputs": [
    {
     "data": {
      "text/plain": [
       "(3, 1, 4)"
      ]
     },
     "execution_count": 8,
     "metadata": {},
     "output_type": "execute_result"
    }
   ],
   "source": [
    "mps.A[0].shape"
   ]
  },
  {
   "cell_type": "code",
   "execution_count": 9,
   "metadata": {},
   "outputs": [
    {
     "data": {
      "text/plain": [
       "array([[[ 0.06220011+0.01347846j, -0.21228587+0.23009715j,\n",
       "          0.15318521+0.09542994j,  0.19199197-0.17540234j]],\n",
       "\n",
       "       [[-0.39825339+0.07527094j, -0.26580628-0.19573109j,\n",
       "          0.02609531+0.17931292j, -0.06455275-0.01019108j]],\n",
       "\n",
       "       [[-0.00342952-0.03773487j, -0.17412686-0.13899416j,\n",
       "          0.17950636+0.24955021j,  0.15876611-0.0315432j ]]])"
      ]
     },
     "execution_count": 9,
     "metadata": {},
     "output_type": "execute_result"
    }
   ],
   "source": [
    "# show random entries of leftmost tensor as illustration\n",
    "mps.A[0]"
   ]
  },
  {
   "cell_type": "code",
   "execution_count": 10,
   "metadata": {},
   "outputs": [
    {
     "data": {
      "text/plain": [
       "(5, 5, 5)"
      ]
     },
     "execution_count": 10,
     "metadata": {},
     "output_type": "execute_result"
    }
   ],
   "source": [
    "# the number of lattice sites is (by definition) the length of mps.A;\n",
    "# by construction same as length of virtual bond dimension list - 1\n",
    "L = mps.nsites\n",
    "(L, len(mps.A), len(D)-1)"
   ]
  },
  {
   "cell_type": "code",
   "execution_count": 11,
   "metadata": {},
   "outputs": [
    {
     "data": {
      "text/plain": [
       "[1, 4, 15, 13, 7, 1]"
      ]
     },
     "execution_count": 11,
     "metadata": {},
     "output_type": "execute_result"
    }
   ],
   "source": [
    "mps.bond_dims"
   ]
  },
  {
   "cell_type": "code",
   "execution_count": 13,
   "metadata": {},
   "outputs": [
    {
     "data": {
      "text/plain": [
       "((243,), 243)"
      ]
     },
     "execution_count": 13,
     "metadata": {},
     "output_type": "execute_result"
    }
   ],
   "source": [
    "\n",
    "x = mps.as_vector()\n",
    "# the length of x is equal to the physical Hilbert space dimension,\n",
    "# i.e., d^L with L the number of lattice sites:\n",
    "(x.shape, d**L)"
   ]
  },
  {
   "cell_type": "code",
   "execution_count": 14,
   "metadata": {},
   "outputs": [
    {
     "data": {
      "text/plain": [
       "0.008733585128016282"
      ]
     },
     "execution_count": 14,
     "metadata": {},
     "output_type": "execute_result"
    }
   ],
   "source": [
    "\n",
    "# in general, the MPS is not normalized\n",
    "np.linalg.norm(x)"
   ]
  },
  {
   "cell_type": "code",
   "execution_count": 15,
   "metadata": {},
   "outputs": [
    {
     "data": {
      "text/plain": [
       "0.00873358512801628"
      ]
     },
     "execution_count": 15,
     "metadata": {},
     "output_type": "execute_result"
    }
   ],
   "source": [
    "mps.orthonormalize(mode='left')"
   ]
  },
  {
   "cell_type": "code",
   "execution_count": 16,
   "metadata": {},
   "outputs": [
    {
     "data": {
      "text/plain": [
       "0.9999999999999999"
      ]
     },
     "execution_count": 16,
     "metadata": {},
     "output_type": "execute_result"
    }
   ],
   "source": [
    "# now the norm is 1, as expected\n",
    "x = mps.as_vector()\n",
    "np.linalg.norm(x)"
   ]
  },
  {
   "cell_type": "code",
   "execution_count": 17,
   "metadata": {},
   "outputs": [],
   "source": [
    "# Hamiltonian parameters\n",
    "t  =  1.0\n",
    "U  =  4.0\n",
    "mu = -0.5\n",
    "# construct MPO (allowed local occupancies are 0, 1, ..., d - 1)\n",
    "BH = ptn.bose_hubbard_mpo(d, L, t, U, mu)"
   ]
  },
  {
   "cell_type": "code",
   "execution_count": 18,
   "metadata": {},
   "outputs": [
    {
     "data": {
      "text/plain": [
       "((3, 3, 1, 4), (3, 3, 4, 4), (3, 3, 4, 4))"
      ]
     },
     "execution_count": 18,
     "metadata": {},
     "output_type": "execute_result"
    }
   ],
   "source": [
    "# the first and second dimensions are the physical dimensions,\n",
    "# and the third and fourth dimension the left and right virtual bond dimensions\n",
    "(BH.A[0].shape, BH.A[1].shape, BH.A[2].shape)"
   ]
  },
  {
   "cell_type": "code",
   "execution_count": 19,
   "metadata": {},
   "outputs": [
    {
     "data": {
      "text/plain": [
       "array([[[[0.        +0.j, 1.        +0.j, 0.        +0.j,\n",
       "          0.        +0.j]],\n",
       "\n",
       "        [[0.        +0.j, 0.        +0.j, 1.        +0.j,\n",
       "          0.        +0.j]],\n",
       "\n",
       "        [[0.        +0.j, 0.        +0.j, 0.        +0.j,\n",
       "          0.        +0.j]]],\n",
       "\n",
       "\n",
       "       [[[1.        +0.j, 0.        +0.j, 0.        +0.j,\n",
       "          0.        +0.j]],\n",
       "\n",
       "        [[0.        +0.j, 1.        +0.j, 0.        +0.j,\n",
       "          0.5       +0.j]],\n",
       "\n",
       "        [[0.        +0.j, 0.        +0.j, 1.41421356+0.j,\n",
       "          0.        +0.j]]],\n",
       "\n",
       "\n",
       "       [[[0.        +0.j, 0.        +0.j, 0.        +0.j,\n",
       "          0.        +0.j]],\n",
       "\n",
       "        [[1.41421356+0.j, 0.        +0.j, 0.        +0.j,\n",
       "          0.        +0.j]],\n",
       "\n",
       "        [[0.        +0.j, 1.        +0.j, 0.        +0.j,\n",
       "          5.        +0.j]]]])"
      ]
     },
     "execution_count": 19,
     "metadata": {},
     "output_type": "execute_result"
    }
   ],
   "source": [
    "BH.A[0]"
   ]
  },
  {
   "cell_type": "code",
   "execution_count": 20,
   "metadata": {},
   "outputs": [],
   "source": [
    "BH_mat = BH.as_matrix()"
   ]
  },
  {
   "cell_type": "code",
   "execution_count": 21,
   "metadata": {},
   "outputs": [
    {
     "data": {
      "text/plain": [
       "(243, 243)"
      ]
     },
     "execution_count": 21,
     "metadata": {},
     "output_type": "execute_result"
    }
   ],
   "source": [
    "BH_mat.shape"
   ]
  },
  {
   "cell_type": "code",
   "execution_count": 26,
   "metadata": {},
   "outputs": [
    {
     "data": {
      "text/plain": [
       "(9.249829654930814+2.968060797920573e-17j)"
      ]
     },
     "execution_count": 26,
     "metadata": {},
     "output_type": "execute_result"
    }
   ],
   "source": [
    "\n",
    "ptn.operator_average(mps, BH)"
   ]
  },
  {
   "cell_type": "code",
   "execution_count": 27,
   "metadata": {},
   "outputs": [
    {
     "data": {
      "text/plain": [
       "(9.249829654930814-1.9879140146989366e-16j)"
      ]
     },
     "execution_count": 27,
     "metadata": {},
     "output_type": "execute_result"
    }
   ],
   "source": [
    "# should agree with matrix-vector representation\n",
    "np.vdot(x, np.dot(BH_mat, x))"
   ]
  },
  {
   "cell_type": "markdown",
   "metadata": {},
   "source": [
    "-------------"
   ]
  },
  {
   "cell_type": "code",
   "execution_count": 28,
   "metadata": {},
   "outputs": [],
   "source": [
    "# Pauli matrices\n",
    "sigma_x = np.array([[0.,  1.], [1.,  0.]])\n",
    "sigma_y = np.array([[0., -1j], [1j,  0.]])\n",
    "sigma_z = np.array([[1.,  0.], [0., -1.]])\n",
    "\n",
    "# store operators in a dictionary\n",
    "opmap = {\n",
    "    0: np.identity(2),\n",
    "    1: sigma_x,\n",
    "    2: sigma_y,\n",
    "    3: sigma_z }\n",
    "\n",
    "# create the symbolic operator chain 0.7 * I I X X Z I I ...\n",
    "opchain = ptn.OpChain([1, 1, 3], [0, 0, 0, 0], 0.7, 2)\n",
    "# The second parameter contains quantum numbers to be interleaved with the operators,\n",
    "# see the section below for an explanation.\n",
    "# The last argument is the first site which the operator chain acts on other than identities."
   ]
  },
  {
   "cell_type": "markdown",
   "metadata": {},
   "source": [
    "-----------"
   ]
  },
  {
   "cell_type": "code",
   "execution_count": 31,
   "metadata": {},
   "outputs": [
    {
     "name": "stdout",
     "output_type": "stream",
     "text": [
      "Collecting tensorflow\n",
      "  Obtaining dependency information for tensorflow from https://files.pythonhosted.org/packages/71/a2/863a553d48f52d8f719626bb6d1c6f51d77e26d4bb9445a48fbf73f8e445/tensorflow-2.16.1-cp312-cp312-macosx_12_0_arm64.whl.metadata\n",
      "  Downloading tensorflow-2.16.1-cp312-cp312-macosx_12_0_arm64.whl.metadata (4.1 kB)\n",
      "Collecting absl-py>=1.0.0 (from tensorflow)\n",
      "  Obtaining dependency information for absl-py>=1.0.0 from https://files.pythonhosted.org/packages/a2/ad/e0d3c824784ff121c03cc031f944bc7e139a8f1870ffd2845cc2dd76f6c4/absl_py-2.1.0-py3-none-any.whl.metadata\n",
      "  Downloading absl_py-2.1.0-py3-none-any.whl.metadata (2.3 kB)\n",
      "Collecting astunparse>=1.6.0 (from tensorflow)\n",
      "  Obtaining dependency information for astunparse>=1.6.0 from https://files.pythonhosted.org/packages/2b/03/13dde6512ad7b4557eb792fbcf0c653af6076b81e5941d36ec61f7ce6028/astunparse-1.6.3-py2.py3-none-any.whl.metadata\n",
      "  Downloading astunparse-1.6.3-py2.py3-none-any.whl.metadata (4.4 kB)\n",
      "Collecting flatbuffers>=23.5.26 (from tensorflow)\n",
      "  Obtaining dependency information for flatbuffers>=23.5.26 from https://files.pythonhosted.org/packages/41/f0/7e988a019bc54b2dbd0ad4182ef2d53488bb02e58694cd79d61369e85900/flatbuffers-24.3.25-py2.py3-none-any.whl.metadata\n",
      "  Downloading flatbuffers-24.3.25-py2.py3-none-any.whl.metadata (850 bytes)\n",
      "Collecting gast!=0.5.0,!=0.5.1,!=0.5.2,>=0.2.1 (from tensorflow)\n",
      "  Obtaining dependency information for gast!=0.5.0,!=0.5.1,!=0.5.2,>=0.2.1 from https://files.pythonhosted.org/packages/fa/39/5aae571e5a5f4de9c3445dae08a530498e5c53b0e74410eeeb0991c79047/gast-0.5.4-py3-none-any.whl.metadata\n",
      "  Downloading gast-0.5.4-py3-none-any.whl.metadata (1.3 kB)\n",
      "Collecting google-pasta>=0.1.1 (from tensorflow)\n",
      "  Obtaining dependency information for google-pasta>=0.1.1 from https://files.pythonhosted.org/packages/a3/de/c648ef6835192e6e2cc03f40b19eeda4382c49b5bafb43d88b931c4c74ac/google_pasta-0.2.0-py3-none-any.whl.metadata\n",
      "  Downloading google_pasta-0.2.0-py3-none-any.whl.metadata (814 bytes)\n",
      "Requirement already satisfied: h5py>=3.10.0 in /Library/Frameworks/Python.framework/Versions/3.12/lib/python3.12/site-packages (from tensorflow) (3.10.0)\n",
      "Collecting libclang>=13.0.0 (from tensorflow)\n",
      "  Obtaining dependency information for libclang>=13.0.0 from https://files.pythonhosted.org/packages/db/ed/1df62b44db2583375f6a8a5e2ca5432bbdc3edb477942b9b7c848c720055/libclang-18.1.1-py2.py3-none-macosx_11_0_arm64.whl.metadata\n",
      "  Downloading libclang-18.1.1-py2.py3-none-macosx_11_0_arm64.whl.metadata (5.2 kB)\n",
      "Collecting ml-dtypes~=0.3.1 (from tensorflow)\n",
      "  Obtaining dependency information for ml-dtypes~=0.3.1 from https://files.pythonhosted.org/packages/ad/2d/57a8aa1ba7472a93a675bfba3f0c90d9396d01d040617a5345ce87884330/ml_dtypes-0.3.2-cp312-cp312-macosx_10_9_universal2.whl.metadata\n",
      "  Downloading ml_dtypes-0.3.2-cp312-cp312-macosx_10_9_universal2.whl.metadata (20 kB)\n",
      "Requirement already satisfied: opt-einsum>=2.3.2 in /Library/Frameworks/Python.framework/Versions/3.12/lib/python3.12/site-packages (from tensorflow) (3.3.0)\n",
      "Requirement already satisfied: packaging in /Users/shreyupadhyay/Library/Python/3.12/lib/python/site-packages (from tensorflow) (23.2)\n",
      "Requirement already satisfied: protobuf!=4.21.0,!=4.21.1,!=4.21.2,!=4.21.3,!=4.21.4,!=4.21.5,<5.0.0dev,>=3.20.3 in /Library/Frameworks/Python.framework/Versions/3.12/lib/python3.12/site-packages (from tensorflow) (4.25.3)\n",
      "Requirement already satisfied: requests<3,>=2.21.0 in /Library/Frameworks/Python.framework/Versions/3.12/lib/python3.12/site-packages (from tensorflow) (2.31.0)\n",
      "Requirement already satisfied: setuptools in /Library/Frameworks/Python.framework/Versions/3.12/lib/python3.12/site-packages (from tensorflow) (69.1.1)\n",
      "Requirement already satisfied: six>=1.12.0 in /Users/shreyupadhyay/Library/Python/3.12/lib/python/site-packages (from tensorflow) (1.16.0)\n",
      "Collecting termcolor>=1.1.0 (from tensorflow)\n",
      "  Obtaining dependency information for termcolor>=1.1.0 from https://files.pythonhosted.org/packages/d9/5f/8c716e47b3a50cbd7c146f45881e11d9414def768b7cd9c5e6650ec2a80a/termcolor-2.4.0-py3-none-any.whl.metadata\n",
      "  Downloading termcolor-2.4.0-py3-none-any.whl.metadata (6.1 kB)\n",
      "Requirement already satisfied: typing-extensions>=3.6.6 in /Library/Frameworks/Python.framework/Versions/3.12/lib/python3.12/site-packages (from tensorflow) (4.10.0)\n",
      "Collecting wrapt>=1.11.0 (from tensorflow)\n",
      "  Obtaining dependency information for wrapt>=1.11.0 from https://files.pythonhosted.org/packages/6a/d7/cfcd73e8f4858079ac59d9db1ec5a1349bc486ae8e9ba55698cc1f4a1dff/wrapt-1.16.0-cp312-cp312-macosx_11_0_arm64.whl.metadata\n",
      "  Downloading wrapt-1.16.0-cp312-cp312-macosx_11_0_arm64.whl.metadata (6.6 kB)\n",
      "Collecting grpcio<2.0,>=1.24.3 (from tensorflow)\n",
      "  Obtaining dependency information for grpcio<2.0,>=1.24.3 from https://files.pythonhosted.org/packages/c6/a3/95c490027e7fa8b2246ceb577d4c56ad916954c073c4b0dd0ce0f875d1e4/grpcio-1.62.1-cp312-cp312-macosx_10_10_universal2.whl.metadata\n",
      "  Downloading grpcio-1.62.1-cp312-cp312-macosx_10_10_universal2.whl.metadata (4.0 kB)\n",
      "Collecting tensorboard<2.17,>=2.16 (from tensorflow)\n",
      "  Obtaining dependency information for tensorboard<2.17,>=2.16 from https://files.pythonhosted.org/packages/3a/d0/b97889ffa769e2d1fdebb632084d5e8b53fc299d43a537acee7ec0c021a3/tensorboard-2.16.2-py3-none-any.whl.metadata\n",
      "  Downloading tensorboard-2.16.2-py3-none-any.whl.metadata (1.6 kB)\n",
      "Collecting keras>=3.0.0 (from tensorflow)\n",
      "  Obtaining dependency information for keras>=3.0.0 from https://files.pythonhosted.org/packages/48/a6/ac5cc97a2677e07d3ac359d05cfb2974ec16c8c8ae6dd265e94706256608/keras-3.2.1-py3-none-any.whl.metadata\n",
      "  Downloading keras-3.2.1-py3-none-any.whl.metadata (5.6 kB)\n",
      "Requirement already satisfied: numpy<2.0.0,>=1.26.0 in /Library/Frameworks/Python.framework/Versions/3.12/lib/python3.12/site-packages (from tensorflow) (1.26.3)\n",
      "Collecting wheel<1.0,>=0.23.0 (from astunparse>=1.6.0->tensorflow)\n",
      "  Obtaining dependency information for wheel<1.0,>=0.23.0 from https://files.pythonhosted.org/packages/7d/cd/d7460c9a869b16c3dd4e1e403cce337df165368c71d6af229a74699622ce/wheel-0.43.0-py3-none-any.whl.metadata\n",
      "  Downloading wheel-0.43.0-py3-none-any.whl.metadata (2.2 kB)\n",
      "Collecting rich (from keras>=3.0.0->tensorflow)\n",
      "  Obtaining dependency information for rich from https://files.pythonhosted.org/packages/87/67/a37f6214d0e9fe57f6ae54b2956d550ca8365857f42a1ce0392bb21d9410/rich-13.7.1-py3-none-any.whl.metadata\n",
      "  Downloading rich-13.7.1-py3-none-any.whl.metadata (18 kB)\n",
      "Collecting namex (from keras>=3.0.0->tensorflow)\n",
      "  Obtaining dependency information for namex from https://files.pythonhosted.org/packages/cd/43/b971880e2eb45c0bee2093710ae8044764a89afe9620df34a231c6f0ecd2/namex-0.0.7-py3-none-any.whl.metadata\n",
      "  Downloading namex-0.0.7-py3-none-any.whl.metadata (246 bytes)\n",
      "Collecting optree (from keras>=3.0.0->tensorflow)\n",
      "  Obtaining dependency information for optree from https://files.pythonhosted.org/packages/a4/69/4601d52757167698fbf6718680b51feadc9dfaaf8569759e1e3fa14823b6/optree-0.11.0-cp312-cp312-macosx_11_0_arm64.whl.metadata\n",
      "  Downloading optree-0.11.0-cp312-cp312-macosx_11_0_arm64.whl.metadata (45 kB)\n",
      "\u001b[2K     \u001b[90m━━━━━━━━━━━━━━━━━━━━━━━━━━━━━━━━━━━━━━━━\u001b[0m \u001b[32m45.4/45.4 kB\u001b[0m \u001b[31m3.8 MB/s\u001b[0m eta \u001b[36m0:00:00\u001b[0m\n",
      "\u001b[?25hRequirement already satisfied: charset-normalizer<4,>=2 in /Library/Frameworks/Python.framework/Versions/3.12/lib/python3.12/site-packages (from requests<3,>=2.21.0->tensorflow) (3.3.2)\n",
      "Requirement already satisfied: idna<4,>=2.5 in /Library/Frameworks/Python.framework/Versions/3.12/lib/python3.12/site-packages (from requests<3,>=2.21.0->tensorflow) (3.6)\n",
      "Requirement already satisfied: urllib3<3,>=1.21.1 in /Library/Frameworks/Python.framework/Versions/3.12/lib/python3.12/site-packages (from requests<3,>=2.21.0->tensorflow) (2.2.1)\n",
      "Requirement already satisfied: certifi>=2017.4.17 in /Library/Frameworks/Python.framework/Versions/3.12/lib/python3.12/site-packages (from requests<3,>=2.21.0->tensorflow) (2024.2.2)\n",
      "Collecting markdown>=2.6.8 (from tensorboard<2.17,>=2.16->tensorflow)\n",
      "  Obtaining dependency information for markdown>=2.6.8 from https://files.pythonhosted.org/packages/fc/b3/0c0c994fe49cd661084f8d5dc06562af53818cc0abefaca35bdc894577c3/Markdown-3.6-py3-none-any.whl.metadata\n",
      "  Downloading Markdown-3.6-py3-none-any.whl.metadata (7.0 kB)\n",
      "Collecting tensorboard-data-server<0.8.0,>=0.7.0 (from tensorboard<2.17,>=2.16->tensorflow)\n",
      "  Obtaining dependency information for tensorboard-data-server<0.8.0,>=0.7.0 from https://files.pythonhosted.org/packages/7a/13/e503968fefabd4c6b2650af21e110aa8466fe21432cd7c43a84577a89438/tensorboard_data_server-0.7.2-py3-none-any.whl.metadata\n",
      "  Downloading tensorboard_data_server-0.7.2-py3-none-any.whl.metadata (1.1 kB)\n",
      "Collecting werkzeug>=1.0.1 (from tensorboard<2.17,>=2.16->tensorflow)\n",
      "  Obtaining dependency information for werkzeug>=1.0.1 from https://files.pythonhosted.org/packages/e3/23/c9843d7550092ae7ad380611c238f44afef66f58f76c1dab7dcf313e4339/werkzeug-3.0.2-py3-none-any.whl.metadata\n",
      "  Downloading werkzeug-3.0.2-py3-none-any.whl.metadata (4.1 kB)\n",
      "Collecting MarkupSafe>=2.1.1 (from werkzeug>=1.0.1->tensorboard<2.17,>=2.16->tensorflow)\n",
      "  Obtaining dependency information for MarkupSafe>=2.1.1 from https://files.pythonhosted.org/packages/53/bd/583bf3e4c8d6a321938c13f49d44024dbe5ed63e0a7ba127e454a66da974/MarkupSafe-2.1.5-cp312-cp312-macosx_10_9_universal2.whl.metadata\n",
      "  Using cached MarkupSafe-2.1.5-cp312-cp312-macosx_10_9_universal2.whl.metadata (3.0 kB)\n",
      "Collecting markdown-it-py>=2.2.0 (from rich->keras>=3.0.0->tensorflow)\n",
      "  Obtaining dependency information for markdown-it-py>=2.2.0 from https://files.pythonhosted.org/packages/42/d7/1ec15b46af6af88f19b8e5ffea08fa375d433c998b8a7639e76935c14f1f/markdown_it_py-3.0.0-py3-none-any.whl.metadata\n",
      "  Downloading markdown_it_py-3.0.0-py3-none-any.whl.metadata (6.9 kB)\n",
      "Requirement already satisfied: pygments<3.0.0,>=2.13.0 in /Users/shreyupadhyay/Library/Python/3.12/lib/python/site-packages (from rich->keras>=3.0.0->tensorflow) (2.17.2)\n",
      "Collecting mdurl~=0.1 (from markdown-it-py>=2.2.0->rich->keras>=3.0.0->tensorflow)\n",
      "  Obtaining dependency information for mdurl~=0.1 from https://files.pythonhosted.org/packages/b3/38/89ba8ad64ae25be8de66a6d463314cf1eb366222074cfda9ee839c56a4b4/mdurl-0.1.2-py3-none-any.whl.metadata\n",
      "  Downloading mdurl-0.1.2-py3-none-any.whl.metadata (1.6 kB)\n",
      "Downloading tensorflow-2.16.1-cp312-cp312-macosx_12_0_arm64.whl (227.1 MB)\n",
      "\u001b[2K   \u001b[90m━━━━━━━━━━━━━━━━━━━━━━━━━━━━━━━━━━━━━━━━\u001b[0m \u001b[32m227.1/227.1 MB\u001b[0m \u001b[31m8.1 MB/s\u001b[0m eta \u001b[36m0:00:00\u001b[0m:00:01\u001b[0m00:01\u001b[0m\n",
      "\u001b[?25hDownloading absl_py-2.1.0-py3-none-any.whl (133 kB)\n",
      "\u001b[2K   \u001b[90m━━━━━━━━━━━━━━━━━━━━━━━━━━━━━━━━━━━━━━━\u001b[0m \u001b[32m133.7/133.7 kB\u001b[0m \u001b[31m906.9 kB/s\u001b[0m eta \u001b[36m0:00:00\u001b[0m00:01\u001b[0m\n",
      "\u001b[?25hDownloading astunparse-1.6.3-py2.py3-none-any.whl (12 kB)\n",
      "Downloading flatbuffers-24.3.25-py2.py3-none-any.whl (26 kB)\n",
      "Downloading gast-0.5.4-py3-none-any.whl (19 kB)\n",
      "Downloading google_pasta-0.2.0-py3-none-any.whl (57 kB)\n",
      "\u001b[2K   \u001b[90m━━━━━━━━━━━━━━━━━━━━━━━━━━━━━━━━━━━━━━━━\u001b[0m \u001b[32m57.5/57.5 kB\u001b[0m \u001b[31m8.9 MB/s\u001b[0m eta \u001b[36m0:00:00\u001b[0m\n",
      "\u001b[?25hDownloading grpcio-1.62.1-cp312-cp312-macosx_10_10_universal2.whl (10.0 MB)\n",
      "\u001b[2K   \u001b[90m━━━━━━━━━━━━━━━━━━━━━━━━━━━━━━━━━━━━━━━━\u001b[0m \u001b[32m10.0/10.0 MB\u001b[0m \u001b[31m17.7 MB/s\u001b[0m eta \u001b[36m0:00:00\u001b[0m0:01\u001b[0m00:01\u001b[0m\n",
      "\u001b[?25hDownloading keras-3.2.1-py3-none-any.whl (1.1 MB)\n",
      "\u001b[2K   \u001b[90m━━━━━━━━━━━━━━━━━━━━━━━━━━━━━━━━━━━━━━━━\u001b[0m \u001b[32m1.1/1.1 MB\u001b[0m \u001b[31m12.3 MB/s\u001b[0m eta \u001b[36m0:00:00\u001b[0m00:01\u001b[0m00:01\u001b[0m\n",
      "\u001b[?25hDownloading libclang-18.1.1-py2.py3-none-macosx_11_0_arm64.whl (26.4 MB)\n",
      "\u001b[2K   \u001b[90m━━━━━━━━━━━━━━━━━━━━━━━━━━━━━━━━━━━━━━━━\u001b[0m \u001b[32m26.4/26.4 MB\u001b[0m \u001b[31m12.6 MB/s\u001b[0m eta \u001b[36m0:00:00\u001b[0m00:01\u001b[0m00:01\u001b[0m\n",
      "\u001b[?25hDownloading ml_dtypes-0.3.2-cp312-cp312-macosx_10_9_universal2.whl (393 kB)\n",
      "\u001b[2K   \u001b[90m━━━━━━━━━━━━━━━━━━━━━━━━━━━━━━━━━━━━━━━━\u001b[0m \u001b[32m393.6/393.6 kB\u001b[0m \u001b[31m8.2 MB/s\u001b[0m eta \u001b[36m0:00:00\u001b[0ma \u001b[36m0:00:01\u001b[0m\n",
      "\u001b[?25hDownloading tensorboard-2.16.2-py3-none-any.whl (5.5 MB)\n",
      "\u001b[2K   \u001b[90m━━━━━━━━━━━━━━━━━━━━━━━━━━━━━━━━━━━━━━━━\u001b[0m \u001b[32m5.5/5.5 MB\u001b[0m \u001b[31m12.0 MB/s\u001b[0m eta \u001b[36m0:00:00\u001b[0m00:01\u001b[0m00:01\u001b[0m\n",
      "\u001b[?25hDownloading termcolor-2.4.0-py3-none-any.whl (7.7 kB)\n",
      "Downloading wrapt-1.16.0-cp312-cp312-macosx_11_0_arm64.whl (38 kB)\n",
      "Downloading Markdown-3.6-py3-none-any.whl (105 kB)\n",
      "\u001b[2K   \u001b[90m━━━━━━━━━━━━━━━━━━━━━━━━━━━━━━━━━━━━━━━━\u001b[0m \u001b[32m105.4/105.4 kB\u001b[0m \u001b[31m11.0 MB/s\u001b[0m eta \u001b[36m0:00:00\u001b[0m\n",
      "\u001b[?25hDownloading tensorboard_data_server-0.7.2-py3-none-any.whl (2.4 kB)\n",
      "Downloading werkzeug-3.0.2-py3-none-any.whl (226 kB)\n",
      "\u001b[2K   \u001b[90m━━━━━━━━━━━━━━━━━━━━━━━━━━━━━━━━━━━━━━━━\u001b[0m \u001b[32m226.8/226.8 kB\u001b[0m \u001b[31m13.1 MB/s\u001b[0m eta \u001b[36m0:00:00\u001b[0m\n",
      "\u001b[?25hDownloading wheel-0.43.0-py3-none-any.whl (65 kB)\n",
      "\u001b[2K   \u001b[90m━━━━━━━━━━━━━━━━━━━━━━━━━━━━━━━━━━━━━━━━\u001b[0m \u001b[32m65.8/65.8 kB\u001b[0m \u001b[31m8.6 MB/s\u001b[0m eta \u001b[36m0:00:00\u001b[0m\n",
      "\u001b[?25hDownloading namex-0.0.7-py3-none-any.whl (5.8 kB)\n",
      "Downloading optree-0.11.0-cp312-cp312-macosx_11_0_arm64.whl (276 kB)\n",
      "\u001b[2K   \u001b[90m━━━━━━━━━━━━━━━━━━━━━━━━━━━━━━━━━━━━━━━━\u001b[0m \u001b[32m276.7/276.7 kB\u001b[0m \u001b[31m13.1 MB/s\u001b[0m eta \u001b[36m0:00:00\u001b[0m\n",
      "\u001b[?25hDownloading rich-13.7.1-py3-none-any.whl (240 kB)\n",
      "\u001b[2K   \u001b[90m━━━━━━━━━━━━━━━━━━━━━━━━━━━━━━━━━━━━━━━━\u001b[0m \u001b[32m240.7/240.7 kB\u001b[0m \u001b[31m13.9 MB/s\u001b[0m eta \u001b[36m0:00:00\u001b[0m\n",
      "\u001b[?25hDownloading markdown_it_py-3.0.0-py3-none-any.whl (87 kB)\n",
      "\u001b[2K   \u001b[90m━━━━━━━━━━━━━━━━━━━━━━━━━━━━━━━━━━━━━━━━\u001b[0m \u001b[32m87.5/87.5 kB\u001b[0m \u001b[31m7.9 MB/s\u001b[0m eta \u001b[36m0:00:00\u001b[0m\n",
      "\u001b[?25hUsing cached MarkupSafe-2.1.5-cp312-cp312-macosx_10_9_universal2.whl (18 kB)\n",
      "Downloading mdurl-0.1.2-py3-none-any.whl (10.0 kB)\n",
      "Installing collected packages: namex, libclang, flatbuffers, wrapt, wheel, termcolor, tensorboard-data-server, optree, ml-dtypes, mdurl, MarkupSafe, markdown, grpcio, google-pasta, gast, absl-py, werkzeug, markdown-it-py, astunparse, tensorboard, rich, keras, tensorflow\n",
      "Successfully installed MarkupSafe-2.1.5 absl-py-2.1.0 astunparse-1.6.3 flatbuffers-24.3.25 gast-0.5.4 google-pasta-0.2.0 grpcio-1.62.1 keras-3.2.1 libclang-18.1.1 markdown-3.6 markdown-it-py-3.0.0 mdurl-0.1.2 ml-dtypes-0.3.2 namex-0.0.7 optree-0.11.0 rich-13.7.1 tensorboard-2.16.2 tensorboard-data-server-0.7.2 tensorflow-2.16.1 termcolor-2.4.0 werkzeug-3.0.2 wheel-0.43.0 wrapt-1.16.0\n",
      "\n",
      "\u001b[1m[\u001b[0m\u001b[34;49mnotice\u001b[0m\u001b[1;39;49m]\u001b[0m\u001b[39;49m A new release of pip is available: \u001b[0m\u001b[31;49m23.2.1\u001b[0m\u001b[39;49m -> \u001b[0m\u001b[32;49m24.0\u001b[0m\n",
      "\u001b[1m[\u001b[0m\u001b[34;49mnotice\u001b[0m\u001b[1;39;49m]\u001b[0m\u001b[39;49m To update, run: \u001b[0m\u001b[32;49mpip3 install --upgrade pip\u001b[0m\n",
      "Note: you may need to restart the kernel to use updated packages.\n"
     ]
    }
   ],
   "source": [
    "pip install tensorflow"
   ]
  },
  {
   "cell_type": "code",
   "execution_count": 2,
   "metadata": {},
   "outputs": [
    {
     "name": "stdout",
     "output_type": "stream",
     "text": [
      "Collecting tensornetwork\n",
      "  Obtaining dependency information for tensornetwork from https://files.pythonhosted.org/packages/62/85/75c4733e9fd7832aac61a6f7d1a473ead56769951344bacf6b4be379254f/tensornetwork-0.4.6-py3-none-any.whl.metadata\n",
      "  Downloading tensornetwork-0.4.6-py3-none-any.whl.metadata (6.8 kB)\n",
      "Requirement already satisfied: numpy>=1.17 in /Library/Frameworks/Python.framework/Versions/3.12/lib/python3.12/site-packages (from tensornetwork) (1.26.3)\n",
      "Collecting graphviz>=0.11.1 (from tensornetwork)\n",
      "  Obtaining dependency information for graphviz>=0.11.1 from https://files.pythonhosted.org/packages/00/be/d59db2d1d52697c6adc9eacaf50e8965b6345cc143f671e1ed068818d5cf/graphviz-0.20.3-py3-none-any.whl.metadata\n",
      "  Downloading graphviz-0.20.3-py3-none-any.whl.metadata (12 kB)\n",
      "Requirement already satisfied: opt-einsum>=2.3.0 in /Library/Frameworks/Python.framework/Versions/3.12/lib/python3.12/site-packages (from tensornetwork) (3.3.0)\n",
      "Requirement already satisfied: h5py>=2.9.0 in /Library/Frameworks/Python.framework/Versions/3.12/lib/python3.12/site-packages (from tensornetwork) (3.10.0)\n",
      "Requirement already satisfied: scipy>=1.1 in /Library/Frameworks/Python.framework/Versions/3.12/lib/python3.12/site-packages (from tensornetwork) (1.11.4)\n",
      "Downloading tensornetwork-0.4.6-py3-none-any.whl (364 kB)\n",
      "\u001b[2K   \u001b[90m━━━━━━━━━━━━━━━━━━━━━━━━━━━━━━━━━━━━━━━━\u001b[0m \u001b[32m364.3/364.3 kB\u001b[0m \u001b[31m9.6 MB/s\u001b[0m eta \u001b[36m0:00:00\u001b[0m\n",
      "\u001b[?25hDownloading graphviz-0.20.3-py3-none-any.whl (47 kB)\n",
      "\u001b[2K   \u001b[90m━━━━━━━━━━━━━━━━━━━━━━━━━━━━━━━━━━━━━━━━\u001b[0m \u001b[32m47.1/47.1 kB\u001b[0m \u001b[31m3.7 MB/s\u001b[0m eta \u001b[36m0:00:00\u001b[0m\n",
      "\u001b[?25hInstalling collected packages: graphviz, tensornetwork\n",
      "Successfully installed graphviz-0.20.3 tensornetwork-0.4.6\n",
      "\n",
      "\u001b[1m[\u001b[0m\u001b[34;49mnotice\u001b[0m\u001b[1;39;49m]\u001b[0m\u001b[39;49m A new release of pip is available: \u001b[0m\u001b[31;49m23.2.1\u001b[0m\u001b[39;49m -> \u001b[0m\u001b[32;49m24.0\u001b[0m\n",
      "\u001b[1m[\u001b[0m\u001b[34;49mnotice\u001b[0m\u001b[1;39;49m]\u001b[0m\u001b[39;49m To update, run: \u001b[0m\u001b[32;49mpip3 install --upgrade pip\u001b[0m\n",
      "Note: you may need to restart the kernel to use updated packages.\n"
     ]
    }
   ],
   "source": [
    "pip install tensornetwork"
   ]
  },
  {
   "cell_type": "code",
   "execution_count": 5,
   "metadata": {},
   "outputs": [],
   "source": [
    "import numpy as np\n",
    "from tensornetwork import Node, contract_between\n",
    "from autograd import grad, elementwise_grad\n",
    "import scipy.optimize as opt\n",
    "import numpy as np\n",
    "from time import time\n",
    "import matplotlib.pyplot as plt"
   ]
  },
  {
   "cell_type": "code",
   "execution_count": 7,
   "metadata": {},
   "outputs": [],
   "source": [
    "def build_hamiltonian(N, J, h):\n",
    "    H = np.zeros((2**N, 2**N), dtype=complex)\n",
    "    for i in range(N-1):\n",
    "        # Interaction terms J_i * (σ_i^x σ_{i+1}^x + σ_i^y σ_{i+1}^y + σ_i^z σ_{i+1}^z)\n",
    "        xx = kronecker_product([I]*i + [sigma_x, sigma_x] + [I]*(N-i-2))\n",
    "        yy = kronecker_product([I]*i + [sigma_y, sigma_y] + [I]*(N-i-2))\n",
    "        zz = kronecker_product([I]*i + [sigma_z, sigma_z] + [I]*(N-i-2))\n",
    "        H += J[i] * (xx + yy + zz)\n",
    "    \n",
    "    for i in range(N):\n",
    "        # External field terms h_i * σ_i^z\n",
    "        z = kronecker_product([I]*i + [sigma_z] + [I]*(N-i-1))\n",
    "        H += h[i] * z\n",
    "    return H"
   ]
  },
  {
   "cell_type": "code",
   "execution_count": 8,
   "metadata": {},
   "outputs": [],
   "source": [
    "\n",
    "def mps_circuit(params, N):\n",
    "    \"\"\"\n",
    "    Construct a hardware-efficient variational MPS circuit ansatz.\n",
    "    \n",
    "    Args:\n",
    "        params (np.ndarray): Variational parameters for the circuit.\n",
    "        N (int): Number of qubits (system size).\n",
    "        \n",
    "    Returns:\n",
    "        Node: Tensor network representation of the variational MPS state.\n",
    "    \"\"\"\n",
    "    # Define single-qubit rotation gates\n",
    "    rx = lambda theta: np.array([[np.cos(theta/2), -1j*np.sin(theta/2)],\n",
    "                                 [-1j*np.sin(theta/2), np.cos(theta/2)]])\n",
    "    ry = lambda theta: np.array([[np.cos(theta/2), -np.sin(theta/2)],\n",
    "                                 [np.sin(theta/2), np.cos(theta/2)]])\n",
    "    rz = lambda theta: np.array([[np.exp(-1j*theta/2), 0],\n",
    "                                 [0, np.exp(1j*theta/2)]])\n",
    "    \n",
    "    # Initialize the MPS tensor\n",
    "    mps = [None] * N\n",
    "    mps[0] = Node(np.reshape(rz(params[0]) @ ry(params[1]) @ rz(params[2]), [2, 1, 1]))\n",
    "    \n",
    "    # Construct the MPS circuit\n",
    "    for i in range(1, N):\n",
    "        mps[i] = Node(np.reshape(rz(params[3*i]) @ ry(params[3*i+1]) @ rz(params[3*i+2]), [1, 2, 2, 1]))\n",
    "        mps[i-1] = contract_between(mps[i-1], mps[i], [1], [2])\n",
    "        \n",
    "    return mps[N-1]\n"
   ]
  },
  {
   "cell_type": "code",
   "execution_count": 9,
   "metadata": {},
   "outputs": [],
   "source": [
    "def energy_expectation(params, H, N):\n",
    "    # Compute the energy expectation value of the variational MPS state\n",
    "    # with respect to the Hamiltonian 'H' using tensor network contractions\n",
    "    psi = mps_circuit(params, N)\n",
    "    energy = contract_between(Node(H), Node(psi.conj()), Node(psi))\n",
    "    return energy.tensor\n"
   ]
  },
  {
   "cell_type": "code",
   "execution_count": 10,
   "metadata": {},
   "outputs": [],
   "source": [
    "def optimize_vqe(N, J, h, initial_params):\n",
    "    H = build_hamiltonian(N, J, h)\n",
    "    energy_grad = elementwise_grad(energy_expectation)\n",
    "\n",
    "    def objective_fn(params):\n",
    "        energy = energy_expectation(params, H, N)\n",
    "        return energy.real\n",
    "\n",
    "    def gradient_fn(params):\n",
    "        grad_vec = energy_grad(params, H, N)\n",
    "        return grad_vec.real\n",
    "\n",
    "    opt_result = opt.minimize(objective_fn, initial_params, jac=gradient_fn,\n",
    "                              method='L-BFGS-B')\n",
    "    opt_params = opt_result.x\n",
    "    ground_state_energy = opt_result.fun\n",
    "    return ground_state_energy, opt_params"
   ]
  },
  {
   "cell_type": "code",
   "execution_count": 12,
   "metadata": {},
   "outputs": [],
   "source": [
    "def kronecker_product(matrices):\n",
    "    \"\"\" Calculate the Kronecker product of a list of matrices \"\"\"\n",
    "    result = matrices[0]\n",
    "    for matrix in matrices[1:]:\n",
    "        result = np.kron(result, matrix)\n",
    "    return result"
   ]
  },
  {
   "cell_type": "code",
   "execution_count": 90,
   "metadata": {},
   "outputs": [],
   "source": [
    "sigma_x = np.array([[0, 1], [1, 0]], dtype=complex)\n",
    "sigma_y = np.array([[0, -1j], [1j, 0]], dtype=complex)\n",
    "sigma_z = np.array([[1, 0], [0, -1]], dtype=complex)\n",
    "I = np.eye(2)\n",
    "# Example usage\n",
    "N = 4  # System size\n",
    "J = [1.0, 1.0, 1.0]  # Interaction strengths\n",
    "h = [0.5, 0.5, 0.5, 0.5]  # External fields\n",
    "initial_params = np.random.rand(10)  # Initial variational parameters\n",
    "\n",
    "eigenvalues, eigenvectors = eigh(H)\n",
    "\n",
    "# Ground state vector\n",
    "ground_state_vector = eigenvectors[:, np.argmin(eigenvalues)]\n"
   ]
  },
  {
   "cell_type": "code",
   "execution_count": 18,
   "metadata": {},
   "outputs": [
    {
     "name": "stdout",
     "output_type": "stream",
     "text": [
      "Ground State Energy: -3.734386093655219\n",
      "Ground State Vector: [ 0.        +0.j  0.        +0.j  0.        +0.j -0.51226782+0.j\n",
      "  0.        +0.j  0.79055324+0.j -0.33557005-0.j  0.        +0.j]\n"
     ]
    }
   ],
   "source": [
    "print(\"Ground State Energy:\", np.min(eigenvalues))\n",
    "print(\"Ground State Vector:\", ground_state_vector)\n"
   ]
  },
  {
   "cell_type": "code",
   "execution_count": 91,
   "metadata": {},
   "outputs": [],
   "source": [
    "import numpy as np\n",
    "from scipy.linalg import expm\n",
    "from qiskit import QuantumCircuit, execute, Aer\n",
    "from qiskit.opflow import PauliSumOp, X, Y, Z\n",
    "from qiskit.providers.aer import QasmSimulator, StatevectorSimulator"
   ]
  },
  {
   "cell_type": "code",
   "execution_count": 82,
   "metadata": {},
   "outputs": [
    {
     "name": "stdout",
     "output_type": "stream",
     "text": [
      "Ground state energy: -6.163234449378754\n",
      "Optimized parameters: [ 1.57079606 -1.57079562 -0.0324418  -1.72738862 -1.62013836  0.30279403\n",
      "  1.5707977   1.57079841  0.21281325  1.56880635 -1.51845621  1.6088192\n",
      " -4.71238933  1.52126221  2.90000517 -3.14159331 -4.71239085 -3.1415983 ]\n"
     ]
    }
   ],
   "source": [
    "\n",
    "\n",
    "def kronecker_product(matrices):\n",
    "    result = np.eye(1)\n",
    "    for m in matrices:\n",
    "        result = np.kron(result, m)\n",
    "    return result\n",
    "\n",
    "def define_hamiltonian(n_qubits, J, h):\n",
    "    sigma_x = np.array([[0, 1], [1, 0]])\n",
    "    sigma_y = np.array([[0, -1j], [1j, 0]])\n",
    "    sigma_z = np.array([[1, 0], [0, -1]])\n",
    "    I = np.eye(2)\n",
    "    \n",
    "    H = np.zeros((2**n_qubits, 2**n_qubits), dtype=complex)\n",
    "    for i in range(n_qubits - 1):\n",
    "        H += J * (kronecker_product([I]*i + [sigma_x, sigma_x] + [I]*(n_qubits-i-2))\n",
    "                 + kronecker_product([I]*i + [sigma_y, sigma_y] + [I]*(n_qubits-i-2))\n",
    "                 + kronecker_product([I]*i + [sigma_z, sigma_z] + [I]*(n_qubits-i-2)))\n",
    "    \n",
    "    for i in range(n_qubits):\n",
    "        H += h[i] * kronecker_product([I]*i + [sigma_z] + [I]*(n_qubits-i-1))\n",
    "    \n",
    "    return H\n",
    "\n",
    "def mps_ansatz(n_qubits, params):\n",
    "    \"\"\"\n",
    "    Define the MPS ansatz circuit.\n",
    "    \n",
    "    Args:\n",
    "        n_qubits (int): Number of qubits.\n",
    "        params (list): List of variational parameters.\n",
    "        \n",
    "    Returns:\n",
    "        QuantumCircuit: The MPS ansatz circuit.\n",
    "    \"\"\"\n",
    "    qc = QuantumCircuit(n_qubits)\n",
    "    \n",
    "    # Apply single-qubit rotations\n",
    "    for i in range(n_qubits):\n",
    "        qc.ry(params[3*i], i)\n",
    "        qc.rz(params[3*i+1], i)\n",
    "        qc.ry(params[3*i+2], i)\n",
    "    \n",
    "    # Apply two-qubit entanglers\n",
    "    for i in range(n_qubits - 1):\n",
    "        qc.cx(i, i+1)\n",
    "        qc.ryy(params[3*n_qubits + 2*i], i, i+1)\n",
    "        qc.rz(params[3*n_qubits + 2*i + 1], i+1)\n",
    "        qc.cx(i, i+1)\n",
    "    \n",
    "    return qc\n",
    "\n",
    "def vqe_cost_fn(params, hamiltonian, n_qubits):\n",
    "    \"\"\"\n",
    "    Define the VQE cost function.\n",
    "    \n",
    "    Args:\n",
    "        params (list): List of variational parameters.\n",
    "        hamiltonian (numpy.ndarray): The Hamiltonian operator.\n",
    "        n_qubits (int): Number of qubits.\n",
    "        \n",
    "    Returns:\n",
    "        float: The expectation value of the Hamiltonian.\n",
    "    \"\"\"\n",
    "    qc = mps_ansatz(n_qubits, params)\n",
    "    simulator = StatevectorSimulator()\n",
    "    job = execute(qc, simulator, optimization_level=0)\n",
    "    statevector = job.result().get_statevector().data  # Convert Statevector to numpy array\n",
    "    expectation = np.real(np.vdot(statevector, hamiltonian @ statevector))\n",
    "    return expectation\n",
    "\n",
    "\n",
    "def vqe_optimization(n_qubits, J, h, initial_params):\n",
    "    \"\"\"\n",
    "    Perform VQE optimization to find the ground state energy.\n",
    "    \n",
    "    Args:\n",
    "        n_qubits (int): Number of qubits.\n",
    "        J (float): Coupling strength.\n",
    "        h (list): List of local fields.\n",
    "        initial_params (list): Initial variational parameters.\n",
    "        \n",
    "    Returns:\n",
    "        float: The ground state energy.\n",
    "        list: The optimized variational parameters.\n",
    "    \"\"\"\n",
    "    hamiltonian = define_hamiltonian(n_qubits, J, h)\n",
    "    \n",
    "    # Generate the correct number of initial parameters\n",
    "    num_params = 3 * n_qubits + 2 * (n_qubits - 1)\n",
    "    if len(initial_params) != num_params:\n",
    "        initial_params = np.random.uniform(-np.pi, np.pi, num_params)\n",
    "    \n",
    "    from scipy.optimize import minimize\n",
    "    result = minimize(vqe_cost_fn, initial_params, args=(hamiltonian, n_qubits))\n",
    "    ground_state_energy = result.fun\n",
    "    optimized_params = result.x\n",
    "    return ground_state_energy, optimized_params\n",
    "\n",
    "# Example usage\n",
    "n_qubits = 4\n",
    "J = 1.0\n",
    "h = [0.5, 0.2, -0.3, 0.1]\n",
    "initial_params = np.random.uniform(-np.pi, np.pi, 3 * n_qubits + 2 * (n_qubits - 1))\n",
    "\n",
    "try:\n",
    "    ground_state_energy, optimized_params = vqe_optimization(n_qubits, J, h, initial_params)\n",
    "    print(f\"Ground state energy: {ground_state_energy}\")\n",
    "    print(f\"Optimized parameters: {optimized_params}\")\n",
    "except Exception as e:\n",
    "    print(f\"Error during VQE optimization: {e}\")\n"
   ]
  },
  {
   "cell_type": "code",
   "execution_count": 89,
   "metadata": {},
   "outputs": [
    {
     "name": "stderr",
     "output_type": "stream",
     "text": [
      "/Library/Frameworks/Python.framework/Versions/3.12/lib/python3.12/site-packages/qiskit/visualization/circuit/matplotlib.py:266: FutureWarning: The default matplotlib drawer scheme will be changed to \"iqp\" in a following release. To silence this warning, specify the current default explicitly as style=\"clifford\", or the new default as style=\"iqp\".\n",
      "  self._style, def_font_ratio = load_style(self._style)\n"
     ]
    },
    {
     "data": {
      "image/png": "[encoded data removed]",
      "text/plain": [
       "<Figure size 956.385x284.278 with 1 Axes>"
      ]
     },
     "execution_count": 89,
     "metadata": {},
     "output_type": "execute_result"
    }
   ],
   "source": [
    "from qiskit import QuantumCircuit\n",
    "from qiskit.circuit.library import RXXGate, RYYGate, RZZGate\n",
    "import numpy as np\n",
    "\n",
    "def hamiltonian_circuit(n_qubits, theta):\n",
    "    qc = QuantumCircuit(n_qubits)\n",
    "    \n",
    "    # Apply transverse magnetic fields (X and Z fields)\n",
    "    for i in range(n_qubits):\n",
    "        qc.rx(theta, i)  # Simulate the effect of the Bx field\n",
    "        qc.rz(theta, i)  # Simulate the effect of the Bz field\n",
    "\n",
    "    # Apply interactions (XX, YY, ZZ)\n",
    "    for i in range(n_qubits - 1):\n",
    "        qc.append(RXXGate(theta), [i, i+1])  # XX coupling\n",
    "        qc.append(RYYGate(theta), [i, i+1])  # YY coupling\n",
    "        qc.append(RZZGate(theta), [i, i+1])  # ZZ coupling\n",
    "\n",
    "    return qc\n",
    "\n",
    "# Example usage\n",
    "n_qubits = 3\n",
    "theta = np.pi / 4  # Example angle for simulation\n",
    "qc = hamiltonian_circuit(n_qubits, theta)\n",
    "qc.draw(output='mpl')\n"
   ]
  },
  {
   "cell_type": "code",
   "execution_count": null,
   "metadata": {},
   "outputs": [],
   "source": []
  }
 ],
 "metadata": {
  "kernelspec": {
   "display_name": "Python 3",
   "language": "python",
   "name": "python3"
  },
  "language_info": {
   "codemirror_mode": {
    "name": "ipython",
    "version": 3
   },
   "file_extension": ".py",
   "mimetype": "text/x-python",
   "name": "python",
   "nbconvert_exporter": "python",
   "pygments_lexer": "ipython3",
   "version": "3.12.1"
  }
 },
 "nbformat": 4,
 "nbformat_minor": 2
}
