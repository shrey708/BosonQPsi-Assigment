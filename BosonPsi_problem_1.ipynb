{
 "cells": [
  {
   "cell_type": "code",
   "execution_count": 2,
   "metadata": {},
   "outputs": [
    {
     "name": "stdout",
     "output_type": "stream",
     "text": [
      "Collecting pytenet\n",
      "  Obtaining dependency information for pytenet from https://files.pythonhosted.org/packages/2d/95/2b29ceefa42357d2347ca824b0f423b66c585970b06cea15d566d13733b6/pytenet-1.2.0-py3-none-any.whl.metadata\n",
      "  Downloading pytenet-1.2.0-py3-none-any.whl.metadata (5.9 kB)\n",
      "Requirement already satisfied: numpy in /Library/Frameworks/Python.framework/Versions/3.12/lib/python3.12/site-packages (from pytenet) (1.26.3)\n",
      "Requirement already satisfied: scipy in /Library/Frameworks/Python.framework/Versions/3.12/lib/python3.12/site-packages (from pytenet) (1.11.4)\n",
      "Downloading pytenet-1.2.0-py3-none-any.whl (36 kB)\n",
      "Installing collected packages: pytenet\n",
      "Successfully installed pytenet-1.2.0\n",
      "\n",
      "\u001b[1m[\u001b[0m\u001b[34;49mnotice\u001b[0m\u001b[1;39;49m]\u001b[0m\u001b[39;49m A new release of pip is available: \u001b[0m\u001b[31;49m23.2.1\u001b[0m\u001b[39;49m -> \u001b[0m\u001b[32;49m24.0\u001b[0m\n",
      "\u001b[1m[\u001b[0m\u001b[34;49mnotice\u001b[0m\u001b[1;39;49m]\u001b[0m\u001b[39;49m To update, run: \u001b[0m\u001b[32;49mpip3 install --upgrade pip\u001b[0m\n",
      "Note: you may need to restart the kernel to use updated packages.\n"
     ]
    }
   ],
   "source": [
    "pip install pytenet"
   ]
  },
  {
   "cell_type": "code",
   "execution_count": 3,
   "metadata": {},
   "outputs": [],
   "source": [
    "import numpy as np\n",
    "import pytenet as ptn"
   ]
  },
  {
   "cell_type": "code",
   "execution_count": 4,
   "metadata": {},
   "outputs": [],
   "source": [
    "# seed random number generator for reproducibility\n",
    "rng = np.random.default_rng(42)"
   ]
  },
  {
   "cell_type": "code",
   "execution_count": 5,
   "metadata": {},
   "outputs": [],
   "source": [
    "# physical dimension (of each lattice site);\n",
    "# this could be spin 1, 0, -1 for example, or 0, 1, 2 particles per lattice site\n",
    "d = 3\n",
    "\n",
    "# virtual bond dimensions (note the leading and trailing 1)\n",
    "D = [1, 4, 15, 13, 7, 1]\n",
    "\n",
    "# set all physical and virtual bond quantum numbers to zero\n",
    "# (effectively disabling quantum numbers)\n",
    "qd = np.zeros(d, dtype=int)\n",
    "qD = [np.zeros(Di, dtype=int) for Di in D]\n",
    "\n",
    "# now create the matrix product state\n",
    "mps = ptn.MPS(qd, qD, fill='random', rng=rng)"
   ]
  },
  {
   "cell_type": "code",
   "execution_count": 6,
   "metadata": {},
   "outputs": [
    {
     "data": {
      "text/plain": [
       "list"
      ]
     },
     "execution_count": 6,
     "metadata": {},
     "output_type": "execute_result"
    }
   ],
   "source": [
    "type(mps.A)"
   ]
  },
  {
   "cell_type": "code",
   "execution_count": 7,
   "metadata": {},
   "outputs": [
    {
     "data": {
      "text/plain": [
       "numpy.ndarray"
      ]
     },
     "execution_count": 7,
     "metadata": {},
     "output_type": "execute_result"
    }
   ],
   "source": [
    "type(mps.A[0])"
   ]
  },
  {
   "cell_type": "code",
   "execution_count": 8,
   "metadata": {},
   "outputs": [
    {
     "data": {
      "text/plain": [
       "(3, 1, 4)"
      ]
     },
     "execution_count": 8,
     "metadata": {},
     "output_type": "execute_result"
    }
   ],
   "source": [
    "mps.A[0].shape"
   ]
  },
  {
   "cell_type": "code",
   "execution_count": 9,
   "metadata": {},
   "outputs": [
    {
     "data": {
      "text/plain": [
       "array([[[ 0.06220011+0.01347846j, -0.21228587+0.23009715j,\n",
       "          0.15318521+0.09542994j,  0.19199197-0.17540234j]],\n",
       "\n",
       "       [[-0.39825339+0.07527094j, -0.26580628-0.19573109j,\n",
       "          0.02609531+0.17931292j, -0.06455275-0.01019108j]],\n",
       "\n",
       "       [[-0.00342952-0.03773487j, -0.17412686-0.13899416j,\n",
       "          0.17950636+0.24955021j,  0.15876611-0.0315432j ]]])"
      ]
     },
     "execution_count": 9,
     "metadata": {},
     "output_type": "execute_result"
    }
   ],
   "source": [
    "# show random entries of leftmost tensor as illustration\n",
    "mps.A[0]"
   ]
  },
  {
   "cell_type": "code",
   "execution_count": 10,
   "metadata": {},
   "outputs": [
    {
     "data": {
      "text/plain": [
       "(5, 5, 5)"
      ]
     },
     "execution_count": 10,
     "metadata": {},
     "output_type": "execute_result"
    }
   ],
   "source": [
    "# the number of lattice sites is (by definition) the length of mps.A;\n",
    "# by construction same as length of virtual bond dimension list - 1\n",
    "L = mps.nsites\n",
    "(L, len(mps.A), len(D)-1)"
   ]
  },
  {
   "cell_type": "code",
   "execution_count": 11,
   "metadata": {},
   "outputs": [
    {
     "data": {
      "text/plain": [
       "[1, 4, 15, 13, 7, 1]"
      ]
     },
     "execution_count": 11,
     "metadata": {},
     "output_type": "execute_result"
    }
   ],
   "source": [
    "mps.bond_dims"
   ]
  },
  {
   "cell_type": "code",
   "execution_count": 13,
   "metadata": {},
   "outputs": [
    {
     "data": {
      "text/plain": [
       "((243,), 243)"
      ]
     },
     "execution_count": 13,
     "metadata": {},
     "output_type": "execute_result"
    }
   ],
   "source": [
    "\n",
    "x = mps.as_vector()\n",
    "# the length of x is equal to the physical Hilbert space dimension,\n",
    "# i.e., d^L with L the number of lattice sites:\n",
    "(x.shape, d**L)"
   ]
  },
  {
   "cell_type": "code",
   "execution_count": 14,
   "metadata": {},
   "outputs": [
    {
     "data": {
      "text/plain": [
       "0.008733585128016282"
      ]
     },
     "execution_count": 14,
     "metadata": {},
     "output_type": "execute_result"
    }
   ],
   "source": [
    "\n",
    "# in general, the MPS is not normalized\n",
    "np.linalg.norm(x)"
   ]
  },
  {
   "cell_type": "code",
   "execution_count": 15,
   "metadata": {},
   "outputs": [
    {
     "data": {
      "text/plain": [
       "0.00873358512801628"
      ]
     },
     "execution_count": 15,
     "metadata": {},
     "output_type": "execute_result"
    }
   ],
   "source": [
    "mps.orthonormalize(mode='left')"
   ]
  },
  {
   "cell_type": "code",
   "execution_count": 16,
   "metadata": {},
   "outputs": [
    {
     "data": {
      "text/plain": [
       "0.9999999999999999"
      ]
     },
     "execution_count": 16,
     "metadata": {},
     "output_type": "execute_result"
    }
   ],
   "source": [
    "# now the norm is 1, as expected\n",
    "x = mps.as_vector()\n",
    "np.linalg.norm(x)"
   ]
  },
  {
   "cell_type": "code",
   "execution_count": 17,
   "metadata": {},
   "outputs": [],
   "source": [
    "# Hamiltonian parameters\n",
    "t  =  1.0\n",
    "U  =  4.0\n",
    "mu = -0.5\n",
    "# construct MPO (allowed local occupancies are 0, 1, ..., d - 1)\n",
    "BH = ptn.bose_hubbard_mpo(d, L, t, U, mu)"
   ]
  },
  {
   "cell_type": "code",
   "execution_count": 18,
   "metadata": {},
   "outputs": [
    {
     "data": {
      "text/plain": [
       "((3, 3, 1, 4), (3, 3, 4, 4), (3, 3, 4, 4))"
      ]
     },
     "execution_count": 18,
     "metadata": {},
     "output_type": "execute_result"
    }
   ],
   "source": [
    "# the first and second dimensions are the physical dimensions,\n",
    "# and the third and fourth dimension the left and right virtual bond dimensions\n",
    "(BH.A[0].shape, BH.A[1].shape, BH.A[2].shape)"
   ]
  },
  {
   "cell_type": "code",
   "execution_count": 19,
   "metadata": {},
   "outputs": [
    {
     "data": {
      "text/plain": [
       "array([[[[0.        +0.j, 1.        +0.j, 0.        +0.j,\n",
       "          0.        +0.j]],\n",
       "\n",
       "        [[0.        +0.j, 0.        +0.j, 1.        +0.j,\n",
       "          0.        +0.j]],\n",
       "\n",
       "        [[0.        +0.j, 0.        +0.j, 0.        +0.j,\n",
       "          0.        +0.j]]],\n",
       "\n",
       "\n",
       "       [[[1.        +0.j, 0.        +0.j, 0.        +0.j,\n",
       "          0.        +0.j]],\n",
       "\n",
       "        [[0.        +0.j, 1.        +0.j, 0.        +0.j,\n",
       "          0.5       +0.j]],\n",
       "\n",
       "        [[0.        +0.j, 0.        +0.j, 1.41421356+0.j,\n",
       "          0.        +0.j]]],\n",
       "\n",
       "\n",
       "       [[[0.        +0.j, 0.        +0.j, 0.        +0.j,\n",
       "          0.        +0.j]],\n",
       "\n",
       "        [[1.41421356+0.j, 0.        +0.j, 0.        +0.j,\n",
       "          0.        +0.j]],\n",
       "\n",
       "        [[0.        +0.j, 1.        +0.j, 0.        +0.j,\n",
       "          5.        +0.j]]]])"
      ]
     },
     "execution_count": 19,
     "metadata": {},
     "output_type": "execute_result"
    }
   ],
   "source": [
    "BH.A[0]"
   ]
  },
  {
   "cell_type": "code",
   "execution_count": 20,
   "metadata": {},
   "outputs": [],
   "source": [
    "BH_mat = BH.as_matrix()"
   ]
  },
  {
   "cell_type": "code",
   "execution_count": 21,
   "metadata": {},
   "outputs": [
    {
     "data": {
      "text/plain": [
       "(243, 243)"
      ]
     },
     "execution_count": 21,
     "metadata": {},
     "output_type": "execute_result"
    }
   ],
   "source": [
    "BH_mat.shape"
   ]
  },
  {
   "cell_type": "code",
   "execution_count": 26,
   "metadata": {},
   "outputs": [
    {
     "data": {
      "text/plain": [
       "(9.249829654930814+2.968060797920573e-17j)"
      ]
     },
     "execution_count": 26,
     "metadata": {},
     "output_type": "execute_result"
    }
   ],
   "source": [
    "\n",
    "ptn.operator_average(mps, BH)"
   ]
  },
  {
   "cell_type": "code",
   "execution_count": 27,
   "metadata": {},
   "outputs": [
    {
     "data": {
      "text/plain": [
       "(9.249829654930814-1.9879140146989366e-16j)"
      ]
     },
     "execution_count": 27,
     "metadata": {},
     "output_type": "execute_result"
    }
   ],
   "source": [
    "# should agree with matrix-vector representation\n",
    "np.vdot(x, np.dot(BH_mat, x))"
   ]
  },
  {
   "cell_type": "markdown",
   "metadata": {},
   "source": [
    "-------------"
   ]
  },
  {
   "cell_type": "code",
   "execution_count": 28,
   "metadata": {},
   "outputs": [],
   "source": [
    "# Pauli matrices\n",
    "sigma_x = np.array([[0.,  1.], [1.,  0.]])\n",
    "sigma_y = np.array([[0., -1j], [1j,  0.]])\n",
    "sigma_z = np.array([[1.,  0.], [0., -1.]])\n",
    "\n",
    "# store operators in a dictionary\n",
    "opmap = {\n",
    "    0: np.identity(2),\n",
    "    1: sigma_x,\n",
    "    2: sigma_y,\n",
    "    3: sigma_z }\n",
    "\n",
    "# create the symbolic operator chain 0.7 * I I X X Z I I ...\n",
    "opchain = ptn.OpChain([1, 1, 3], [0, 0, 0, 0], 0.7, 2)\n",
    "# The second parameter contains quantum numbers to be interleaved with the operators,\n",
    "# see the section below for an explanation.\n",
    "# The last argument is the first site which the operator chain acts on other than identities."
   ]
  },
  {
   "cell_type": "markdown",
   "metadata": {},
   "source": [
    "-----------"
   ]
  },
  {
   "cell_type": "code",
   "execution_count": null,
   "metadata": {},
   "outputs": [],
   "source": [
    "pip install tensorflow"
   ]
  },
  {
   "cell_type": "code",
   "execution_count": null,
   "metadata": {},
   "outputs": [],
   "source": [
    "pip install tensornetwork"
   ]
  },
  {
   "cell_type": "code",
   "execution_count": 5,
   "metadata": {},
   "outputs": [],
   "source": [
    "import numpy as np\n",
    "from tensornetwork import Node, contract_between\n",
    "from autograd import grad, elementwise_grad\n",
    "import scipy.optimize as opt\n",
    "import numpy as np\n",
    "from time import time\n",
    "import matplotlib.pyplot as plt"
   ]
  },
  {
   "cell_type": "code",
   "execution_count": 7,
   "metadata": {},
   "outputs": [],
   "source": [
    "def build_hamiltonian(N, J, h):\n",
    "    H = np.zeros((2**N, 2**N), dtype=complex)\n",
    "    for i in range(N-1):\n",
    "        # Interaction terms J_i * (σ_i^x σ_{i+1}^x + σ_i^y σ_{i+1}^y + σ_i^z σ_{i+1}^z)\n",
    "        xx = kronecker_product([I]*i + [sigma_x, sigma_x] + [I]*(N-i-2))\n",
    "        yy = kronecker_product([I]*i + [sigma_y, sigma_y] + [I]*(N-i-2))\n",
    "        zz = kronecker_product([I]*i + [sigma_z, sigma_z] + [I]*(N-i-2))\n",
    "        H += J[i] * (xx + yy + zz)\n",
    "    \n",
    "    for i in range(N):\n",
    "        # External field terms h_i * σ_i^z\n",
    "        z = kronecker_product([I]*i + [sigma_z] + [I]*(N-i-1))\n",
    "        H += h[i] * z\n",
    "    return H"
   ]
  },
  {
   "cell_type": "code",
   "execution_count": 8,
   "metadata": {},
   "outputs": [],
   "source": [
    "\n",
    "def mps_circuit(params, N):\n",
    "    \"\"\"\n",
    "    Construct a hardware-efficient variational MPS circuit ansatz.\n",
    "    \n",
    "    Args:\n",
    "        params (np.ndarray): Variational parameters for the circuit.\n",
    "        N (int): Number of qubits (system size).\n",
    "        \n",
    "    Returns:\n",
    "        Node: Tensor network representation of the variational MPS state.\n",
    "    \"\"\"\n",
    "    # Define single-qubit rotation gates\n",
    "    rx = lambda theta: np.array([[np.cos(theta/2), -1j*np.sin(theta/2)],\n",
    "                                 [-1j*np.sin(theta/2), np.cos(theta/2)]])\n",
    "    ry = lambda theta: np.array([[np.cos(theta/2), -np.sin(theta/2)],\n",
    "                                 [np.sin(theta/2), np.cos(theta/2)]])\n",
    "    rz = lambda theta: np.array([[np.exp(-1j*theta/2), 0],\n",
    "                                 [0, np.exp(1j*theta/2)]])\n",
    "    \n",
    "    # Initialize the MPS tensor\n",
    "    mps = [None] * N\n",
    "    mps[0] = Node(np.reshape(rz(params[0]) @ ry(params[1]) @ rz(params[2]), [2, 1, 1]))\n",
    "    \n",
    "    # Construct the MPS circuit\n",
    "    for i in range(1, N):\n",
    "        mps[i] = Node(np.reshape(rz(params[3*i]) @ ry(params[3*i+1]) @ rz(params[3*i+2]), [1, 2, 2, 1]))\n",
    "        mps[i-1] = contract_between(mps[i-1], mps[i], [1], [2])\n",
    "        \n",
    "    return mps[N-1]\n"
   ]
  },
  {
   "cell_type": "code",
   "execution_count": 9,
   "metadata": {},
   "outputs": [],
   "source": [
    "def energy_expectation(params, H, N):\n",
    "    # Compute the energy expectation value of the variational MPS state\n",
    "    # with respect to the Hamiltonian 'H' using tensor network contractions\n",
    "    psi = mps_circuit(params, N)\n",
    "    energy = contract_between(Node(H), Node(psi.conj()), Node(psi))\n",
    "    return energy.tensor\n"
   ]
  },
  {
   "cell_type": "code",
   "execution_count": 10,
   "metadata": {},
   "outputs": [],
   "source": [
    "def optimize_vqe(N, J, h, initial_params):\n",
    "    H = build_hamiltonian(N, J, h)\n",
    "    energy_grad = elementwise_grad(energy_expectation)\n",
    "\n",
    "    def objective_fn(params):\n",
    "        energy = energy_expectation(params, H, N)\n",
    "        return energy.real\n",
    "\n",
    "    def gradient_fn(params):\n",
    "        grad_vec = energy_grad(params, H, N)\n",
    "        return grad_vec.real\n",
    "\n",
    "    opt_result = opt.minimize(objective_fn, initial_params, jac=gradient_fn,\n",
    "                              method='L-BFGS-B')\n",
    "    opt_params = opt_result.x\n",
    "    ground_state_energy = opt_result.fun\n",
    "    return ground_state_energy, opt_params"
   ]
  },
  {
   "cell_type": "code",
   "execution_count": 12,
   "metadata": {},
   "outputs": [],
   "source": [
    "def kronecker_product(matrices):\n",
    "    \"\"\" Calculate the Kronecker product of a list of matrices \"\"\"\n",
    "    result = matrices[0]\n",
    "    for matrix in matrices[1:]:\n",
    "        result = np.kron(result, matrix)\n",
    "    return result"
   ]
  },
  {
   "cell_type": "code",
   "execution_count": 90,
   "metadata": {},
   "outputs": [],
   "source": [
    "sigma_x = np.array([[0, 1], [1, 0]], dtype=complex)\n",
    "sigma_y = np.array([[0, -1j], [1j, 0]], dtype=complex)\n",
    "sigma_z = np.array([[1, 0], [0, -1]], dtype=complex)\n",
    "I = np.eye(2)\n",
    "# Example usage\n",
    "N = 4  # System size\n",
    "J = [1.0, 1.0, 1.0]  # Interaction strengths\n",
    "h = [0.5, 0.5, 0.5, 0.5]  # External fields\n",
    "initial_params = np.random.rand(10)  # Initial variational parameters\n",
    "\n",
    "eigenvalues, eigenvectors = eigh(H)\n",
    "\n",
    "# Ground state vector\n",
    "ground_state_vector = eigenvectors[:, np.argmin(eigenvalues)]\n"
   ]
  },
  {
   "cell_type": "code",
   "execution_count": 18,
   "metadata": {},
   "outputs": [
    {
     "name": "stdout",
     "output_type": "stream",
     "text": [
      "Ground State Energy: -3.734386093655219\n",
      "Ground State Vector: [ 0.        +0.j  0.        +0.j  0.        +0.j -0.51226782+0.j\n",
      "  0.        +0.j  0.79055324+0.j -0.33557005-0.j  0.        +0.j]\n"
     ]
    }
   ],
   "source": [
    "print(\"Ground State Energy:\", np.min(eigenvalues))\n",
    "print(\"Ground State Vector:\", ground_state_vector)\n"
   ]
  },
  {
   "cell_type": "code",
   "execution_count": 91,
   "metadata": {},
   "outputs": [],
   "source": [
    "import numpy as np\n",
    "from scipy.linalg import expm\n",
    "from qiskit import QuantumCircuit, execute, Aer\n",
    "from qiskit.opflow import PauliSumOp, X, Y, Z\n",
    "from qiskit.providers.aer import QasmSimulator, StatevectorSimulator"
   ]
  },
  {
   "cell_type": "code",
   "execution_count": 82,
   "metadata": {},
   "outputs": [
    {
     "name": "stdout",
     "output_type": "stream",
     "text": [
      "Ground state energy: -6.163234449378754\n",
      "Optimized parameters: [ 1.57079606 -1.57079562 -0.0324418  -1.72738862 -1.62013836  0.30279403\n",
      "  1.5707977   1.57079841  0.21281325  1.56880635 -1.51845621  1.6088192\n",
      " -4.71238933  1.52126221  2.90000517 -3.14159331 -4.71239085 -3.1415983 ]\n"
     ]
    }
   ],
   "source": [
    "\n",
    "\n",
    "def kronecker_product(matrices):\n",
    "    result = np.eye(1)\n",
    "    for m in matrices:\n",
    "        result = np.kron(result, m)\n",
    "    return result\n",
    "\n",
    "def define_hamiltonian(n_qubits, J, h):\n",
    "    sigma_x = np.array([[0, 1], [1, 0]])\n",
    "    sigma_y = np.array([[0, -1j], [1j, 0]])\n",
    "    sigma_z = np.array([[1, 0], [0, -1]])\n",
    "    I = np.eye(2)\n",
    "    \n",
    "    H = np.zeros((2**n_qubits, 2**n_qubits), dtype=complex)\n",
    "    for i in range(n_qubits - 1):\n",
    "        H += J * (kronecker_product([I]*i + [sigma_x, sigma_x] + [I]*(n_qubits-i-2))\n",
    "                 + kronecker_product([I]*i + [sigma_y, sigma_y] + [I]*(n_qubits-i-2))\n",
    "                 + kronecker_product([I]*i + [sigma_z, sigma_z] + [I]*(n_qubits-i-2)))\n",
    "    \n",
    "    for i in range(n_qubits):\n",
    "        H += h[i] * kronecker_product([I]*i + [sigma_z] + [I]*(n_qubits-i-1))\n",
    "    \n",
    "    return H\n",
    "\n",
    "def mps_ansatz(n_qubits, params):\n",
    "    \"\"\"\n",
    "    Define the MPS ansatz circuit.\n",
    "    \n",
    "    Args:\n",
    "        n_qubits (int): Number of qubits.\n",
    "        params (list): List of variational parameters.\n",
    "        \n",
    "    Returns:\n",
    "        QuantumCircuit: The MPS ansatz circuit.\n",
    "    \"\"\"\n",
    "    qc = QuantumCircuit(n_qubits)\n",
    "    \n",
    "    # Apply single-qubit rotations\n",
    "    for i in range(n_qubits):\n",
    "        qc.ry(params[3*i], i)\n",
    "        qc.rz(params[3*i+1], i)\n",
    "        qc.ry(params[3*i+2], i)\n",
    "    \n",
    "    # Apply two-qubit entanglers\n",
    "    for i in range(n_qubits - 1):\n",
    "        qc.cx(i, i+1)\n",
    "        qc.ryy(params[3*n_qubits + 2*i], i, i+1)\n",
    "        qc.rz(params[3*n_qubits + 2*i + 1], i+1)\n",
    "        qc.cx(i, i+1)\n",
    "    \n",
    "    return qc\n",
    "\n",
    "def vqe_cost_fn(params, hamiltonian, n_qubits):\n",
    "    \"\"\"\n",
    "    Define the VQE cost function.\n",
    "    \n",
    "    Args:\n",
    "        params (list): List of variational parameters.\n",
    "        hamiltonian (numpy.ndarray): The Hamiltonian operator.\n",
    "        n_qubits (int): Number of qubits.\n",
    "        \n",
    "    Returns:\n",
    "        float: The expectation value of the Hamiltonian.\n",
    "    \"\"\"\n",
    "    qc = mps_ansatz(n_qubits, params)\n",
    "    simulator = StatevectorSimulator()\n",
    "    job = execute(qc, simulator, optimization_level=0)\n",
    "    statevector = job.result().get_statevector().data  # Convert Statevector to numpy array\n",
    "    expectation = np.real(np.vdot(statevector, hamiltonian @ statevector))\n",
    "    return expectation\n",
    "\n",
    "\n",
    "def vqe_optimization(n_qubits, J, h, initial_params):\n",
    "    \"\"\"\n",
    "    Perform VQE optimization to find the ground state energy.\n",
    "    \n",
    "    Args:\n",
    "        n_qubits (int): Number of qubits.\n",
    "        J (float): Coupling strength.\n",
    "        h (list): List of local fields.\n",
    "        initial_params (list): Initial variational parameters.\n",
    "        \n",
    "    Returns:\n",
    "        float: The ground state energy.\n",
    "        list: The optimized variational parameters.\n",
    "    \"\"\"\n",
    "    hamiltonian = define_hamiltonian(n_qubits, J, h)\n",
    "    \n",
    "    # Generate the correct number of initial parameters\n",
    "    num_params = 3 * n_qubits + 2 * (n_qubits - 1)\n",
    "    if len(initial_params) != num_params:\n",
    "        initial_params = np.random.uniform(-np.pi, np.pi, num_params)\n",
    "    \n",
    "    from scipy.optimize import minimize\n",
    "    result = minimize(vqe_cost_fn, initial_params, args=(hamiltonian, n_qubits))\n",
    "    ground_state_energy = result.fun\n",
    "    optimized_params = result.x\n",
    "    return ground_state_energy, optimized_params\n",
    "\n",
    "# Example usage\n",
    "n_qubits = 4\n",
    "J = 1.0\n",
    "h = [0.5, 0.2, -0.3, 0.1]\n",
    "initial_params = np.random.uniform(-np.pi, np.pi, 3 * n_qubits + 2 * (n_qubits - 1))\n",
    "\n",
    "try:\n",
    "    ground_state_energy, optimized_params = vqe_optimization(n_qubits, J, h, initial_params)\n",
    "    print(f\"Ground state energy: {ground_state_energy}\")\n",
    "    print(f\"Optimized parameters: {optimized_params}\")\n",
    "except Exception as e:\n",
    "    print(f\"Error during VQE optimization: {e}\")\n"
   ]
  },
  {
   "cell_type": "code",
   "execution_count": 89,
   "metadata": {},
   "outputs": [
    {
     "name": "stderr",
     "output_type": "stream",
     "text": [
      "/Library/Frameworks/Python.framework/Versions/3.12/lib/python3.12/site-packages/qiskit/visualization/circuit/matplotlib.py:266: FutureWarning: The default matplotlib drawer scheme will be changed to \"iqp\" in a following release. To silence this warning, specify the current default explicitly as style=\"clifford\", or the new default as style=\"iqp\".\n",
      "  self._style, def_font_ratio = load_style(self._style)\n"
     ]
    },
    {
     "data": {
      "image/png": "[encoded data removed]",
      "text/plain": [
       "<Figure size 956.385x284.278 with 1 Axes>"
      ]
     },
     "execution_count": 89,
     "metadata": {},
     "output_type": "execute_result"
    }
   ],
   "source": [
    "from qiskit import QuantumCircuit\n",
    "from qiskit.circuit.library import RXXGate, RYYGate, RZZGate\n",
    "import numpy as np\n",
    "\n",
    "def hamiltonian_circuit(n_qubits, theta):\n",
    "    qc = QuantumCircuit(n_qubits)\n",
    "    \n",
    "    # Apply transverse magnetic fields (X and Z fields)\n",
    "    for i in range(n_qubits):\n",
    "        qc.rx(theta, i)  # Simulate the effect of the Bx field\n",
    "        qc.rz(theta, i)  # Simulate the effect of the Bz field\n",
    "\n",
    "    # Apply interactions (XX, YY, ZZ)\n",
    "    for i in range(n_qubits - 1):\n",
    "        qc.append(RXXGate(theta), [i, i+1])  # XX coupling\n",
    "        qc.append(RYYGate(theta), [i, i+1])  # YY coupling\n",
    "        qc.append(RZZGate(theta), [i, i+1])  # ZZ coupling\n",
    "\n",
    "    return qc\n",
    "\n",
    "# Example usage\n",
    "n_qubits = 3\n",
    "theta = np.pi / 4  # Example angle for simulation\n",
    "qc = hamiltonian_circuit(n_qubits, theta)\n",
    "qc.draw(output='mpl')\n"
   ]
  },
  {
   "cell_type": "markdown",
   "metadata": {},
   "source": [
    "Citation:<br>\n",
    "[1]: https://github.com/cmendl/pytenet <br>\n",
    "[2]: https://iopscience.iop.org/article/10.1088/2058-9565/acd9e7/pdf <br>\n",
    "[3]: https://journals.aps.org/prresearch/pdf/10.1103/PhysRevResearch.5.023174"
   ]
  },
  {
   "cell_type": "markdown",
   "metadata": {},
   "source": []
  }
 ],
 "metadata": {
  "kernelspec": {
   "display_name": "Python 3",
   "language": "python",
   "name": "python3"
  },
  "language_info": {
   "codemirror_mode": {
    "name": "ipython",
    "version": 3
   },
   "file_extension": ".py",
   "mimetype": "text/x-python",
   "name": "python",
   "nbconvert_exporter": "python",
   "pygments_lexer": "ipython3",
   "version": "3.12.1"
  }
 },
 "nbformat": 4,
 "nbformat_minor": 2
}
